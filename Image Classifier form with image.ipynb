{
 "cells": [
  {
   "cell_type": "code",
   "execution_count": 1,
   "id": "2536a9fc",
   "metadata": {},
   "outputs": [
    {
     "name": "stdout",
     "output_type": "stream",
     "text": [
      "1/1 [==============================] - 1s 1s/step\n",
      "1/1 [==============================] - 0s 48ms/step\n"
     ]
    }
   ],
   "source": [
    "import tensorflow as tf\n",
    "from tensorflow.keras.applications import MobileNetV2\n",
    "from tensorflow.keras.applications.mobilenet_v2 import preprocess_input, decode_predictions\n",
    "from tensorflow.keras.preprocessing import image\n",
    "import numpy as np\n",
    "import tkinter as tk\n",
    "from tkinter import filedialog, Label, Canvas\n",
    "from PIL import Image, ImageTk  # Import the necessary module from Pillow\n",
    "\n",
    "# Load the pre-trained MobileNetV2 model (you can use other models like VGG, ResNet, etc.)\n",
    "model = MobileNetV2(weights='imagenet')\n",
    "\n",
    "# Function to load, preprocess, and classify an image\n",
    "def classify_image():\n",
    "    file_path = filedialog.askopenfilename(filetypes=[(\"Image files\", \"*.jpg *.jpeg *.png *.bmp *.gif *.tiff\")])\n",
    "    if file_path:\n",
    "        img = Image.open(file_path)  # Use Pillow to open the image\n",
    "        img = img.resize((224, 224))  # Resize the image to MobileNetV2's input size\n",
    "        img = image.img_to_array(img)\n",
    "        img = np.expand_dims(img, axis=0)\n",
    "        img = preprocess_input(img)\n",
    "\n",
    "        # Make predictions\n",
    "        predictions = model.predict(img)\n",
    "\n",
    "        # Decode and display the top 5 predicted classes\n",
    "        decoded_predictions = decode_predictions(predictions, top=5)[0]\n",
    "        prediction_text = \"\\n\".join([f\"{label}: {score:.2f}\" for (_, label, score) in decoded_predictions])\n",
    "        result_label.config(text=prediction_text)\n",
    "\n",
    "        # Display the selected image\n",
    "        img = Image.open(file_path)\n",
    "        img = img.resize((300, 300))  # Resize the image for display\n",
    "        img = ImageTk.PhotoImage(img)\n",
    "        image_canvas.img = img  # Keep a reference to prevent image from being garbage collected\n",
    "        image_canvas.create_image(0, 0, anchor=tk.NW, image=img)\n",
    "\n",
    "# Main function\n",
    "def main():\n",
    "    root = tk.Tk()\n",
    "    root.title(\"Image Classification App\")\n",
    "\n",
    "    # Create a button to open the file dialog and classify the image\n",
    "    classify_button = tk.Button(root, text=\"Upload Image\", command=classify_image)\n",
    "    classify_button.pack()\n",
    "\n",
    "    # Create a label to display the predictions\n",
    "    global result_label\n",
    "    result_label = Label(root, text=\"\", wraplength=300, justify=\"left\")\n",
    "    result_label.pack()\n",
    "\n",
    "    # Create a canvas to display the selected image\n",
    "    global image_canvas\n",
    "    image_canvas = Canvas(root, width=300, height=300)\n",
    "    image_canvas.pack()\n",
    "\n",
    "    root.mainloop()\n",
    "\n",
    "if __name__ == \"__main__\":\n",
    "    main()\n"
   ]
  },
  {
   "cell_type": "code",
   "execution_count": null,
   "id": "eae515ad",
   "metadata": {},
   "outputs": [],
   "source": []
  }
 ],
 "metadata": {
  "kernelspec": {
   "display_name": "Python 3 (ipykernel)",
   "language": "python",
   "name": "python3"
  },
  "language_info": {
   "codemirror_mode": {
    "name": "ipython",
    "version": 3
   },
   "file_extension": ".py",
   "mimetype": "text/x-python",
   "name": "python",
   "nbconvert_exporter": "python",
   "pygments_lexer": "ipython3",
   "version": "3.9.13"
  }
 },
 "nbformat": 4,
 "nbformat_minor": 5
}
